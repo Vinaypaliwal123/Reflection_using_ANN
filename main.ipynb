{
 "cells": [
  {
   "cell_type": "code",
   "execution_count": null,
   "metadata": {},
   "outputs": [],
   "source": [
    "#import libraries\n",
    "import numpy as np \n",
    "import matplotlib.pyplot as plt "
   ]
  },
  {
   "cell_type": "code",
   "execution_count": null,
   "metadata": {},
   "outputs": [],
   "source": [
    "#initialize the parameters\n",
    "def init_params(input_layer,hidden_layer,output_layer):\n",
    "    w1 = np.radnom.rand(hidden_layer,input_layer)\n",
    "    b1 = np.radnom.rand(hidden_layer,1)\n",
    "    w2 = np.radnom.rand(output_layer,hidden_layer)\n",
    "    b2 = np.radnom.rand(hidden_layer,1)\n",
    "    return w1,b1,w2,b2"
   ]
  },
  {
   "cell_type": "code",
   "execution_count": null,
   "metadata": {},
   "outputs": [],
   "source": [
    "#Define Activation\n",
    "def RelU(z):\n",
    "    return np.maximum(0,z)\n",
    "def linear(z):\n",
    "    return z\n",
    "\n",
    "def derive_RelU(z):\n",
    "    return z>0\n",
    "def derive_linear(z):\n",
    "    return 1"
   ]
  },
  {
   "cell_type": "code",
   "execution_count": null,
   "metadata": {},
   "outputs": [],
   "source": [
    "#forward pass/propogation\n",
    "def forward_prop(w1,b1,w2,b2,a0):\n",
    "    Z1 = w1.dot(a0) + b1\n",
    "    a1 = RelU(Z1)\n",
    "    Z2 = w2.dot(a1) +b1\n",
    "    a2 = RelU(Z2)\n",
    "    return Z1,a1,Z2,a2"
   ]
  },
  {
   "cell_type": "code",
   "execution_count": null,
   "metadata": {},
   "outputs": [],
   "source": [
    "#back Propogation\n",
    "def back_prop(Z1,a1,Z2,a2,w2,y,a0):\n",
    "    dE2 = (a2-y)*derive_linear(Z2)\n",
    "    dw2 = dE2.dot(a2.T)\n",
    "    db2 = dE2\n",
    "    dE1 = w2.dot(dE2.T)*derive_RelU(Z1)\n",
    "    dw1 = dE1.dot(a1.T)\n",
    "    db1 = dE1\n",
    "    return dw1,db1,dw2,db2\n",
    "    "
   ]
  },
  {
   "cell_type": "code",
   "execution_count": null,
   "metadata": {},
   "outputs": [],
   "source": [
    "#update weights and bias\n",
    "def update_params(w1,b1,w2,b2,dw1,db1,dw2,db2,alpha):\n",
    "    w1 = w1 - alpha*dw1\n",
    "    b1 = b1 - alpha*db1\n",
    "    w2 = w2 - alpha*dw2\n",
    "    b2 = b2 - alpha*db2"
   ]
  }
 ],
 "metadata": {
  "language_info": {
   "name": "python"
  }
 },
 "nbformat": 4,
 "nbformat_minor": 2
}
